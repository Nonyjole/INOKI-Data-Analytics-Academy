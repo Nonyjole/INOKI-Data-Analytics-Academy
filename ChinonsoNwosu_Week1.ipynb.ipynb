{
 "cells": [
  {
   "cell_type": "code",
   "execution_count": 52,
   "id": "e4dabaf1",
   "metadata": {
    "scrolled": true
   },
   "outputs": [],
   "source": [
    "# Part 1: Variable and Data Types\n",
    "\n",
    "# Q1: Declare two variables, name and age, and assign your name and age to them respectively\n",
    "# Name = 'Nonso'\n",
    "# Age =  36\n",
    "\n",
    "\n",
    "# Q2: What is the data type of the variable 'age'?\n",
    "# Answer_q2 = 'a'\n"
   ]
  },
  {
   "cell_type": "code",
   "execution_count": 53,
   "id": "dc05c9f4",
   "metadata": {},
   "outputs": [],
   "source": [
    "\n",
    "# Part 2: Operators\n",
    "\n",
    "# Q3: calculate the result of (5+2)*3 and store it the variable 'result'\n",
    "# result = (5+2)*3\n",
    "\n",
    "#Q4 = What is the value of 'result' after the caculation in Q3?\n",
    "# Answer_q4 = 'b'\n",
    "\n"
   ]
  },
  {
   "cell_type": "code",
   "execution_count": null,
   "id": "dd236dee",
   "metadata": {},
   "outputs": [],
   "source": [
    "# Part 3: Control Structures\n",
    "\n",
    "# Q5: Write a for loop to print the first 5 even numbers (starting from 2)\n",
    "# for even_numbers in range(2,12):\n",
    "#    if even_numbers % 2 == 0:\n",
    "#        print(even_numbers)\n",
    "\n",
    "# Q6: What will be the output of the following code?\n",
    "# num =7\n",
    "# if num > 5:\n",
    "#    print('Greater than 5')\n",
    "# else:\n",
    "#    print('Less than or equal to 5')\n",
    "    \n",
    "# Answer_6 = 'a'    "
   ]
  },
  {
   "cell_type": "code",
   "execution_count": 54,
   "id": "bfb40e59",
   "metadata": {},
   "outputs": [
    {
     "name": "stdout",
     "output_type": "stream",
     "text": [
      "30\n",
      "10\n",
      "2\n",
      "('Chukwuma', 31, 'manchuks@gmail.com')\n",
      "('Chukwuma', 31, 'Zebstar023@yahoo.com')\n",
      "{'Tittle': 'Python Programming', 'Author': 'John Smith', 'Pages': 350}\n",
      "{'Tittle': 'Python Programming', 'Author': 'John Smith', 'Pages': 350, 'Publisher': 'XYZ'}\n"
     ]
    }
   ],
   "source": [
    "# Section 2\n",
    "\n",
    "# Coding Test: Introduction to Data structures in Python\n",
    "\n",
    "# Task 1: List Operations\n",
    "\n",
    "# Given a list of intergers 'numbers' = [2,4,6,8,18], write a program to;\n",
    "\n",
    "# a: Calculate and print the sum of all elements in the list\n",
    "\n",
    "number = [2,4,6,8,10]\n",
    "The_Sum = sum(number)\n",
    "print(The_Sum)\n",
    "\n",
    "# b: Find and print the maximum and minimum values in the list\n",
    "The_Max = max(number)\n",
    "print(The_Max)\n",
    "\n",
    "The_Min = min(number)\n",
    "print(The_Min)\n",
    "\n",
    "# Task 2: Tuple Manipulation\n",
    "'''Create a Tuple 'student_info' with the following elements: student's name, age, and email address. Then write a\n",
    "program to:'''\n",
    "# a: print the tuple student_info\n",
    "student_info = ('Chukwuma', 31, 'manchuks@gmail.com')\n",
    "print(student_info)\n",
    "\n",
    "# B: Modify the email address in the tuple to a new email address of your choice and print the updated tuple\n",
    "# Tuples are immutable, to modify it the tuple will be converted to list\n",
    "student_info_list = list(student_info)\n",
    "student_info_list[2]= 'Zebstar023@yahoo.com'\n",
    "# convert back to tuple\n",
    "student_info_list_converted = tuple(student_info_list)\n",
    "print(student_info_list_converted)\n",
    "\n",
    "# Task 3: dictionary Operations\n",
    "# Given the following dictionary representing a book's information: \n",
    "book = {\n",
    "    'Tittle': 'Python Programming',\n",
    "    'Author': 'John Smith',\n",
    "    'Pages': 350\n",
    "}\n",
    "# a: print the title and author of the book\n",
    "print(book)\n",
    "\n",
    "# b: Add a new key-value pair to the 'book' dictionary with key 'publisher' and value 'XYZ'\n",
    "book['Publisher']= 'XYZ'\n",
    "print(book)"
   ]
  }
 ],
 "metadata": {
  "kernelspec": {
   "display_name": "Python 3 (ipykernel)",
   "language": "python",
   "name": "python3"
  },
  "language_info": {
   "codemirror_mode": {
    "name": "ipython",
    "version": 3
   },
   "file_extension": ".py",
   "mimetype": "text/x-python",
   "name": "python",
   "nbconvert_exporter": "python",
   "pygments_lexer": "ipython3",
   "version": "3.10.9"
  }
 },
 "nbformat": 4,
 "nbformat_minor": 5
}
